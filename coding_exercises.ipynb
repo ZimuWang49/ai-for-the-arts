{
 "cells": [
  {
   "cell_type": "code",
   "execution_count": 15,
   "metadata": {},
   "outputs": [
    {
     "name": "stdout",
     "output_type": "stream",
     "text": [
      "Hello, World!\n"
     ]
    }
   ],
   "source": [
    " print(\"Hello, World!\")"
   ]
  },
  {
   "cell_type": "markdown",
   "metadata": {},
   "source": [
    "## Learning the Print Function\n",
    "\n",
    "I submitted the following prompt to Microsoft Copilot:\n",
    "> \"Could you suggest a Python code for 'Hello, world!' to demonstrate the concept of printing to a complete beginner in programming?\"\n",
    "\n",
    "Copilot generated the following code:\n",
    "```python\n",
    "# This is a comment. It explains what the code does.\n",
    "# The following line of code prints the text \"Hello, world!\" to the screen.\n",
    "\n",
    "print(\"Hello, world!\")"
   ]
  },
  {
   "cell_type": "code",
   "execution_count": 16,
   "metadata": {},
   "outputs": [
    {
     "name": "stdout",
     "output_type": "stream",
     "text": [
      "Hello, world!\n"
     ]
    }
   ],
   "source": [
    "# This is a comment. It explains what the code does.\n",
    "# The following line of code prints the text \"Hello, world!\" to the screen.\n",
    "\n",
    "print(\"Hello, world!\")"
   ]
  },
  {
   "cell_type": "markdown",
   "metadata": {},
   "source": [
    "## Learning Variables\n",
    "\n",
    "I submitted the following prompt to Microsoft Copilot:\n",
    "> \"Could you suggest a modification of the Python code for 'Hello, world!' to demonstrate the concept of variables to a complete beginner in programming? Please explain the code step-by-step highlighting any key aspects.\"\n",
    "\n",
    "Copilot generated the following code:\n",
    "```python\n",
    "# This is a comment. It explains what the code does.\n",
    "# The following line of code creates a variable named 'greeting' and assigns it the value \"Hello, world!\".\n",
    "\n",
    "greeting = \"Hello, world!\"\n",
    "\n",
    "# The following line of code prints the value of the 'greeting' variable to the screen.\n",
    "\n",
    "print(greeting)"
   ]
  },
  {
   "cell_type": "code",
   "execution_count": 17,
   "metadata": {},
   "outputs": [
    {
     "name": "stdout",
     "output_type": "stream",
     "text": [
      "Hello, world!\n"
     ]
    }
   ],
   "source": [
    "# This is a comment. It explains what the code does.\n",
    "# The following line of code creates a variable named 'greeting' and assigns it the value \"Hello, world!\".\n",
    "\n",
    "greeting = \"Hello, world!\"\n",
    "\n",
    "# The following line of code prints the value of the 'greeting' variable to the screen.\n",
    "\n",
    "print(greeting)"
   ]
  },
  {
   "cell_type": "markdown",
   "metadata": {},
   "source": [
    "### Variables Progress\n",
    "\n",
    "- **Initial Prompt:**  \n",
    "  \"Could you suggest a modification of the Python code for 'Hello, world!' to demonstrate the concept of variables to a complete beginner in programming? Please explain the code step-by-step highlighting any key aspects.\"\n",
    "\n",
    "- **Copilot Response:**  \n",
    "  Copilot generated the following code:\n",
    "  ```python\n",
    "  greeting = \"Hello, world!\"\n",
    "  print(greeting)"
   ]
  },
  {
   "cell_type": "markdown",
   "metadata": {},
   "source": [
    "## Functions\n",
    "\n",
    "In this section, we will explore the concept of **functions** in Python. A function is a block of reusable code that performs a specific task. We will modify the \"Hello, world!\" code to demonstrate how functions work."
   ]
  },
  {
   "cell_type": "code",
   "execution_count": 18,
   "metadata": {},
   "outputs": [
    {
     "name": "stdout",
     "output_type": "stream",
     "text": [
      "Hello, world!\n"
     ]
    }
   ],
   "source": [
    "# This is a comment. It explains what the code does.\n",
    "# The following lines of code define a function named 'print_greeting' that prints \"Hello, world!\".\n",
    "\n",
    "def print_greeting():\n",
    "    print(\"Hello, world!\")\n",
    "\n",
    "# The following line of code calls the 'print_greeting' function to execute it.\n",
    "print_greeting()"
   ]
  },
  {
   "cell_type": "markdown",
   "metadata": {},
   "source": [
    "### Step-by-Step Explanation:\n",
    "\n",
    "1. **Comments:**\n",
    "   - Lines starting with `#` are comments. They are not executed by the program but help explain the code.\n",
    "\n",
    "2. **Function Definition:**\n",
    "   - `def print_greeting():`\n",
    "   - This line defines a function named `print_greeting`.\n",
    "   - Functions are blocks of code that perform a specific task. They can be reused multiple times in a program.\n",
    "   - The `def` keyword is used to define a function, followed by the function name and parentheses `()`.\n",
    "\n",
    "3. **Function Body:**\n",
    "   - `print(\"Hello, world!\");`\n",
    "   - This line is indented and is part of the function body. It specifies what the function does.\n",
    "   - In this case, the function prints \"Hello, world!\" to the screen.\n",
    "\n",
    "4. **Function Call:**\n",
    "   - `print_greeting()`\n",
    "   - This line calls the `print_greeting` function, which means it tells the program to execute the code inside the function.\n",
    "   - When the function is called, it prints \"Hello, world!\" to the screen."
   ]
  },
  {
   "cell_type": "markdown",
   "metadata": {},
   "source": [
    "### Key Aspects:\n",
    "\n",
    "- **Functions:** Functions are reusable blocks of code that perform specific tasks. They help organize and simplify your code.\n",
    "- **Defining Functions:** Use the `def` keyword followed by the function name and parentheses to define a function.\n",
    "- **Calling Functions:** To execute a function, simply call it by its name followed by parentheses."
   ]
  },
  {
   "cell_type": "markdown",
   "metadata": {},
   "source": [
    "### Learning Outcomes\n",
    "\n",
    "- A **function** is defined using the `def` keyword, followed by the function name and parentheses `()`.\n",
    "- The code inside the function is indented and runs when the function is called.\n",
    "- To call a function, use the function name followed by parentheses `()`.\n",
    "- Functions help organize code and make it reusable."
   ]
  },
  {
   "cell_type": "markdown",
   "metadata": {},
   "source": [
    "# Introduction to This Notebook\n",
    "\n",
    "This notebook is designed to help me learn basic programming concepts and improve my coding skills. By working through different exercises and examples, I aim to develop a strong foundation in programming and problem-solving.\n",
    "\n",
    "## Goals for This Notebook:\n",
    "- Understand fundamental programming concepts such as variables, loops, and functions.\n",
    "- Learn how to write and execute Python code in a Jupyter Notebook.\n",
    "- Work with data structures like lists, dictionaries, and sets.\n",
    "- Gain hands-on experience with basic data analysis and visualization.\n",
    "- Build small projects or scripts to automate simple tasks."
   ]
  },
  {
   "cell_type": "markdown",
   "metadata": {},
   "source": []
  }
 ],
 "metadata": {
  "kernelspec": {
   "display_name": "Python 3",
   "language": "python",
   "name": "python3"
  },
  "language_info": {
   "codemirror_mode": {
    "name": "ipython",
    "version": 3
   },
   "file_extension": ".py",
   "mimetype": "text/x-python",
   "name": "python",
   "nbconvert_exporter": "python",
   "pygments_lexer": "ipython3",
   "version": "3.12.1"
  }
 },
 "nbformat": 4,
 "nbformat_minor": 2
}
