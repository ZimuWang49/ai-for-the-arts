{
 "cells": [
  {
   "cell_type": "code",
   "execution_count": 2,
   "metadata": {},
   "outputs": [
    {
     "name": "stdout",
     "output_type": "stream",
     "text": [
      "Hello, World!\n"
     ]
    }
   ],
   "source": [
    " print(\"Hello, World!\")"
   ]
  },
  {
   "cell_type": "markdown",
   "metadata": {},
   "source": [
    "# Introduction to This Notebook\n",
    "\n",
    "This notebook is designed to help me learn basic programming concepts and improve my coding skills. By working through different exercises and examples, I aim to develop a strong foundation in programming and problem-solving.\n",
    "\n",
    "## Goals for This Notebook:\n",
    "- Understand fundamental programming concepts such as variables, loops, and functions.\n",
    "- Learn how to write and execute Python code in a Jupyter Notebook.\n",
    "- Work with data structures like lists, dictionaries, and sets.\n",
    "- Gain hands-on experience with basic data analysis and visualization.\n",
    "- Build small projects or scripts to automate simple tasks."
   ]
  }
 ],
 "metadata": {
  "kernelspec": {
   "display_name": "Python 3",
   "language": "python",
   "name": "python3"
  },
  "language_info": {
   "codemirror_mode": {
    "name": "ipython",
    "version": 3
   },
   "file_extension": ".py",
   "mimetype": "text/x-python",
   "name": "python",
   "nbconvert_exporter": "python",
   "pygments_lexer": "ipython3",
   "version": "3.12.1"
  }
 },
 "nbformat": 4,
 "nbformat_minor": 2
}
